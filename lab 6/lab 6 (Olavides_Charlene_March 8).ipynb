{
 "cells": [
  {
   "cell_type": "code",
   "execution_count": 14,
   "id": "be08fe7e",
   "metadata": {},
   "outputs": [],
   "source": [
    "from selenium import webdriver\n",
    "from selenium.webdriver.chrome.service import Service\n",
    "from selenium.webdriver.common.keys import Keys\n",
    "from selenium.webdriver.common.by import By\n",
    "from selenium.webdriver.common.action_chains import ActionChains\n",
    "from selenium.webdriver.support.ui import WebDriverWait\n",
    "from selenium.webdriver.support import expected_conditions as EC"
   ]
  },
  {
   "cell_type": "code",
   "execution_count": 15,
   "id": "b7176f35",
   "metadata": {},
   "outputs": [],
   "source": [
    "PATH = Service(\"/Users/charleneolavides/Desktop/python scripts/HARP 151/notes HARP 151/chromedriver_mac_arm64/chromedriver.exe\")\n",
    "driver = webdriver.Chrome(service=PATH)\n",
    "\n",
    "driver.get(\"https://www.binghamton-ny.gov/home\")\n",
    "\n",
    "gov_tab = driver.find_element(By.XPATH, \"//*[@id='dropdownrootitem3']/a\")\n",
    "departments = driver.find_element(By.XPATH, \"//*[@id='dropdownrootitem3']/div/div/ul[1]/li/a\")\n",
    "\n",
    "actions = ActionChains(driver)\n",
    "actions.move_to_element(gov_tab)\n",
    "actions.click(gov_tab)\n",
    "actions.click(departments)\n",
    "actions.perform()"
   ]
  },
  {
   "cell_type": "code",
   "execution_count": 16,
   "id": "5b22a941",
   "metadata": {},
   "outputs": [],
   "source": [
    "try:\n",
    "    personnel = WebDriverWait(driver, 10).until(\n",
    "    EC.presence_of_element_located((By.XPATH, \"//*[@id='widget_4_33_127']/ul/li[16]/a\"))\n",
    "    )\n",
    "    personnel.click()\n",
    "    \n",
    "    employment = WebDriverWait(driver, 10).until(\n",
    "    EC.presence_of_element_located((By.XPATH, \"//*[@id='leftNav_1038_0_145']/ul/li/ul/li[14]/ul/li/a\"))\n",
    "    )\n",
    "    \n",
    "    employment.click()\n",
    "    \n",
    "finally:\n",
    "    driver.quit()"
   ]
  },
  {
   "cell_type": "code",
   "execution_count": 19,
   "id": "7ccd61ec",
   "metadata": {},
   "outputs": [],
   "source": [
    "#copying code above without the finally that makes the driver quit so that the code below will run \n",
    "\n",
    "PATH = Service(\"/Users/charleneolavides/Desktop/python scripts/HARP 151/notes HARP 151/chromedriver_mac_arm64/chromedriver.exe\")\n",
    "driver = webdriver.Chrome(service=PATH)\n",
    "\n",
    "driver.get(\"https://www.binghamton-ny.gov/home\")\n",
    "\n",
    "gov_tab = driver.find_element(By.XPATH, \"//*[@id='dropdownrootitem3']/a\")\n",
    "departments = driver.find_element(By.XPATH, \"//*[@id='dropdownrootitem3']/div/div/ul[1]/li/a\")\n",
    "\n",
    "actions = ActionChains(driver)\n",
    "actions.move_to_element(gov_tab)\n",
    "actions.click(gov_tab)\n",
    "actions.click(departments)\n",
    "actions.perform()\n",
    "\n",
    "personnel = WebDriverWait(driver, 10).until(\n",
    "EC.presence_of_element_located((By.XPATH, \"//*[@id='widget_4_33_127']/ul/li[16]/a\"))\n",
    "    )\n",
    "personnel.click()\n",
    "    \n",
    "employment = WebDriverWait(driver, 10).until(\n",
    "EC.presence_of_element_located((By.XPATH, \"//*[@id='leftNav_1038_0_145']/ul/li/ul/li[14]/ul/li/a\")))\n",
    "    \n",
    "employment.click()\n"
   ]
  },
  {
   "cell_type": "code",
   "execution_count": 20,
   "id": "80f90bce",
   "metadata": {
    "scrolled": false
   },
   "outputs": [
    {
     "name": "stdout",
     "output_type": "stream",
     "text": [
      "['Animal Control Officer', 'Assistant Engineer', 'Building Inspector II', 'City Engineer', 'Code Inspector', 'Commissioner of Public Works', 'Crew Leader', 'Crossing Guard', 'Director of Police Department Community Outreach and Recruitment', 'First Deputy Commissioner of Public Works', 'Laboratory Technician (Sanitary Services)', 'Staff Accountant', 'Street Maintainer', 'Tree Trimmer', 'Urban Forester', 'Water & Sewer Systems Maintainer', 'Water Meter Repairer']\n",
      "['Full Time', 'Full Time', 'Full Time', 'Full Time', 'Full Time', 'Full Time', 'Full Time', 'Part Time', 'Full Time', 'Full Time', 'Full Time', 'Full Time', 'Full Time', 'Full Time', 'Full Time', 'Full Time', 'Full Time']\n",
      "['Open Until Filled', 'Open Until Filled', 'Open Until Filled', 'Open Until Filled', 'Open Until Filled', 'Open Until Filled', '03/10/2023 4:45 PM', 'Open Until Filled', 'Open Until Filled', 'Open Until Filled', 'Open Until Filled', 'Open Until Filled', 'Open Until Filled', '03/10/2023 4:45 PM', '03/10/2023 4:45 PM', 'Open Until Filled', 'Open Until Filled']\n",
      "['$45,228.00 per Year', '$38,127 - $45,062 per Year', '$42,436 per Year', 'Not Specified', '$33,632 per Year*', 'Not Specified', '$21.39 - $25.17 per Hour', '$43.75 per Day', '$66,950.00 per Year', '$61,730.00 per Year', '$29,406.00 per Year', 'Up to $59,000 per Year', '$18.36 Per Hour', '$20.95 - $24.65 per Hour', '$23.09 - $27.16 per Hour', '$20.71 per Hour', '$19.11 per Hour']\n"
     ]
    }
   ],
   "source": [
    "#this link helped me a lot https://stackoverflow.com/questions/70171380/empty-csv-when-writing-selenium-data\n",
    "import pandas as pd\n",
    "\n",
    "job_titles = [i.text for i in WebDriverWait(driver, 20).until(EC.presence_of_all_elements_located((By.XPATH, \"//*[@id='ColumnUserControl4']/div[2]/table/tbody/tr/td[1]\")))]\n",
    "print(job_titles)\n",
    "\n",
    "job_type = [i.text for i in WebDriverWait(driver, 20).until(EC.presence_of_all_elements_located((By.XPATH, \"//*[@id='ColumnUserControl4']/div[2]/table/tbody/tr/td[2]\")))]\n",
    "print(job_type)\n",
    "\n",
    "app_deadline = [i.text for i in WebDriverWait(driver, 20).until(EC.presence_of_all_elements_located((By.XPATH, \"//*[@id='ColumnUserControl4']/div[2]/table/tbody/tr/td[3]\")))]\n",
    "print(app_deadline)\n",
    "\n",
    "salary = [i.text for i in WebDriverWait(driver, 20).until(EC.presence_of_all_elements_located((By.XPATH, \"//*[@id='ColumnUserControl4']/div[2]/table/tbody/tr/td[4]\")))]\n",
    "print(salary)"
   ]
  },
  {
   "cell_type": "code",
   "execution_count": 21,
   "id": "5aa269a7",
   "metadata": {},
   "outputs": [],
   "source": [
    "df = pd.DataFrame(data=list(zip(job_titles, job_type, app_deadline, salary)), columns=['job title','job_type', 'application deadline', 'salary'])"
   ]
  },
  {
   "cell_type": "code",
   "execution_count": 22,
   "id": "e92d29a8",
   "metadata": {},
   "outputs": [],
   "source": [
    "df.to_csv(\"/Users/charleneolavides/Desktop/python scripts/HARP 151/labs HARP 151/jobs.csv\", index=False)"
   ]
  },
  {
   "cell_type": "code",
   "execution_count": 23,
   "id": "dcddf31e",
   "metadata": {},
   "outputs": [],
   "source": [
    "driver.quit()"
   ]
  },
  {
   "cell_type": "code",
   "execution_count": 24,
   "id": "83eddf4b",
   "metadata": {},
   "outputs": [],
   "source": [
    "#Bonus\n",
    "\n",
    "PATH = Service(\"/Users/charleneolavides/Desktop/python scripts/HARP 151/notes HARP 151/chromedriver_mac_arm64/chromedriver.exe\")\n",
    "driver = webdriver.Chrome(service=PATH)\n",
    "\n",
    "driver.get(\"https://www.binghamton-ny.gov/government/departments/personnel-civil-service/employment\")\n",
    "\n",
    "link = driver.find_element(By.LINK_TEXT,\"City Engineer\")\n",
    "link.click()\n"
   ]
  },
  {
   "cell_type": "code",
   "execution_count": 25,
   "id": "766d6d2e",
   "metadata": {},
   "outputs": [
    {
     "name": "stdout",
     "output_type": "stream",
     "text": [
      "Department of Engineering\n",
      "DISTINGUISHING FEATURES OF THE CLASS: This is a professional engineering position, managing and directing engineering activities of considerable scope and variety. The City Engineer plans, develops, directs, and manages the City’s engineering activities including design and construction of streets, water/sewage/drainage facilities, renovation of municipal buildings, parks facilities, and other various facilities. The City Engineer also participates in major project planning and policy formulations with the City’s Capital Improvement Committee. Management and supervision is exercised over all subordinate professional, technical and clerical employees in the Engineering Department.\n",
      "FULL PERFORMANCE KNOWLEDGES, SKILLS, ABILITIES & PERSONAL CHARACTERISTICS: Comprehensive knowledge of the principles and practices of civil engineering; comprehensive knowledge of engineering research and economics; comprehensive knowledge of sources of engineering information; comprehensive knowledge of modern methods and principles of construction and maintenance of public works buildings; thorough knowledge of administrative procedures and sound management techniques; thorough knowledge of methods and procedures involved in the initiation, planning, design, and development of major engineering projects; ability to develop methods and procedures relating to engineering activities; ability to anticipate future municipal engineering needs for the development of long range municipal engineering programs; initiative and resourcefulness in solving complex administrative and engineering programs; a high degree of professional judgment; ability to operate a personal computer and utilize common office software programs including word processing, spreadsheet, and database at an acceptable rate of accuracy and speed; physical condition commensurate with the demands of the position.\n",
      "TYPICAL WORK ACTIVITIES:\n",
      "In-house Project Engineering\n",
      "Survey work for design and construction;\n",
      "Design of street/sidewalk/pipeline construction projects;\n",
      "Construction inspection of street/sidewalk/pipeline construction projects;\n",
      "Investigation/design for building, structural, and mechanical facility projects;\n",
      "Construction inspection of building, structural, and mechanical facility projects;\n",
      "Water/wastewater treatment and pumping studies, designs, construction inspection.\n",
      "Infrastructure Planning\n",
      "Comprehensive infrastructure overview—routine inspections with reports, preventive maintenance programs, facility retirement/replacement schedules, long range planning budgeting;\n",
      "Active participation on inter-agency committees, commissions, various City boards, etc.;\n",
      "Detailed review of consultant planning reports, recommendations, and designs for major City commitments.\n",
      "Infrastructure Management, Control, and Record Keeping\n",
      "Maintenance of accurate maps (tax, utility, street, easement, R.O.W., topographic, G.I.S. files, etc.);\n",
      "Maintenance of record construction drawings;\n",
      "Maintenance and updating of standard construction details/specifications;\n",
      "Coordination of water/sewer/drainage facilities with other City and outside agency programs/projects;\n",
      "Response to problems during construction and repairs being performed by City Water and Sewer crews;\n",
      "Review of developers’ projects/proposals (for utility availability, adequacy of infrastructure, compliance with standards);\n",
      "Administration/inspection of Street Work Permit Program;\n",
      "Sidewalk Inspection/Compliant Response City Repair Program;\n",
      "Administration/inspection of Sidewalk/Curb Rebate Program;\n",
      "RFPs for engineering services, proposal reviews, administration of consultant contracts;\n",
      "Review of consultant designs;\n",
      "Inter-agency coordination (NYSDOT, NYSDEC) and follow through on City responsibilities;\n",
      "Administration of construction contracts and budget control;\n",
      "Response to problems during construction administered by consultants (complaints, requests, unanticipated physical conditions necessitating change orders);\n",
      "Provide information to Legal Department concerning claims and all other legal matters as deemed appropriate;\n",
      "Answer public inquires.\n",
      "MINIMUM QUALIFICATIONS: Possession of a New York State Professional Engineer License and either:\n",
      "A. Graduation from a regionally accredited or New York State registered four year college or university with major work in Civil Engineering and six years of Civil Engineering experience; OR\n",
      "B. Graduation from a regionally accredited or New York State registered two year college with major work in Engineering Science or Civil Engineering Technology and ten years of Civil Engineering experience; OR\n",
      "C. Graduation from high school or possession of a high school equivalency diploma and fourteen years of Civil engineering experience.\n",
      "The City of Binghamton is an equal opportunity employer with a commitment to workforce diversification. All new hires are required to pass a pre-employment drug test as a condition of employment.\n"
     ]
    }
   ],
   "source": [
    "scrape = WebDriverWait(driver, 10).until(\n",
    "    EC.presence_of_element_located((By.CLASS_NAME, \"detail-content\"))\n",
    "    )\n",
    "for i in driver.find_elements(By.CLASS_NAME, \"detail-content\"):\n",
    "    print(scrape.text)"
   ]
  },
  {
   "cell_type": "code",
   "execution_count": 26,
   "id": "7b762331",
   "metadata": {},
   "outputs": [],
   "source": [
    "driver.back()\n",
    "driver.quit()"
   ]
  }
 ],
 "metadata": {
  "kernelspec": {
   "display_name": "Python 3 (ipykernel)",
   "language": "python",
   "name": "python3"
  },
  "language_info": {
   "codemirror_mode": {
    "name": "ipython",
    "version": 3
   },
   "file_extension": ".py",
   "mimetype": "text/x-python",
   "name": "python",
   "nbconvert_exporter": "python",
   "pygments_lexer": "ipython3",
   "version": "3.9.12"
  }
 },
 "nbformat": 4,
 "nbformat_minor": 5
}
