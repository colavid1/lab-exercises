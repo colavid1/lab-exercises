{
 "cells": [
  {
   "cell_type": "code",
   "execution_count": 25,
   "id": "d3c6f1ae",
   "metadata": {
    "scrolled": true
   },
   "outputs": [
    {
     "name": "stdout",
     "output_type": "stream",
     "text": [
      "Requirement already satisfied: selenium in /Users/charleneolavides/opt/anaconda3/lib/python3.9/site-packages (4.8.2)\n",
      "Requirement already satisfied: trio-websocket~=0.9 in /Users/charleneolavides/opt/anaconda3/lib/python3.9/site-packages (from selenium) (0.9.2)\n",
      "Requirement already satisfied: certifi>=2021.10.8 in /Users/charleneolavides/opt/anaconda3/lib/python3.9/site-packages (from selenium) (2021.10.8)\n",
      "Requirement already satisfied: trio~=0.17 in /Users/charleneolavides/opt/anaconda3/lib/python3.9/site-packages (from selenium) (0.22.0)\n",
      "Requirement already satisfied: urllib3[socks]~=1.26 in /Users/charleneolavides/opt/anaconda3/lib/python3.9/site-packages (from selenium) (1.26.9)\n",
      "Requirement already satisfied: exceptiongroup>=1.0.0rc9 in /Users/charleneolavides/opt/anaconda3/lib/python3.9/site-packages (from trio~=0.17->selenium) (1.1.0)\n",
      "Requirement already satisfied: sniffio in /Users/charleneolavides/opt/anaconda3/lib/python3.9/site-packages (from trio~=0.17->selenium) (1.2.0)\n",
      "Requirement already satisfied: idna in /Users/charleneolavides/opt/anaconda3/lib/python3.9/site-packages (from trio~=0.17->selenium) (3.3)\n",
      "Requirement already satisfied: attrs>=19.2.0 in /Users/charleneolavides/opt/anaconda3/lib/python3.9/site-packages (from trio~=0.17->selenium) (21.4.0)\n",
      "Requirement already satisfied: sortedcontainers in /Users/charleneolavides/opt/anaconda3/lib/python3.9/site-packages (from trio~=0.17->selenium) (2.4.0)\n",
      "Requirement already satisfied: async-generator>=1.9 in /Users/charleneolavides/opt/anaconda3/lib/python3.9/site-packages (from trio~=0.17->selenium) (1.10)\n",
      "Requirement already satisfied: outcome in /Users/charleneolavides/opt/anaconda3/lib/python3.9/site-packages (from trio~=0.17->selenium) (1.2.0)\n",
      "Requirement already satisfied: wsproto>=0.14 in /Users/charleneolavides/opt/anaconda3/lib/python3.9/site-packages (from trio-websocket~=0.9->selenium) (1.2.0)\n",
      "Requirement already satisfied: PySocks!=1.5.7,<2.0,>=1.5.6 in /Users/charleneolavides/opt/anaconda3/lib/python3.9/site-packages (from urllib3[socks]~=1.26->selenium) (1.7.1)\n",
      "Requirement already satisfied: h11<1,>=0.9.0 in /Users/charleneolavides/opt/anaconda3/lib/python3.9/site-packages (from wsproto>=0.14->trio-websocket~=0.9->selenium) (0.14.0)\n",
      "Note: you may need to restart the kernel to use updated packages.\n"
     ]
    }
   ],
   "source": [
    "pip install selenium"
   ]
  },
  {
   "cell_type": "code",
   "execution_count": 26,
   "id": "5de418a7",
   "metadata": {},
   "outputs": [],
   "source": [
    "from selenium import webdriver\n",
    "from selenium.webdriver.chrome.service import Service\n",
    "\n",
    "from selenium.webdriver.common.keys import Keys\n",
    "from selenium.webdriver.common.by import By\n",
    "\n",
    "from selenium.webdriver.support.ui import WebDriverWait\n",
    "from selenium.webdriver.support import expected_conditions as EC"
   ]
  },
  {
   "cell_type": "code",
   "execution_count": 27,
   "id": "aa7d99e0",
   "metadata": {},
   "outputs": [],
   "source": [
    "PATH = Service(\"/Users/charleneolavides/Desktop/python scripts/HARP 151/notes HARP 151/chromedriver_mac_arm64/chromedriver.exe\")"
   ]
  },
  {
   "cell_type": "code",
   "execution_count": 28,
   "id": "6c0c5022",
   "metadata": {
    "scrolled": true
   },
   "outputs": [],
   "source": [
    "driver = webdriver.Chrome(service=PATH)\n",
    "\n",
    "driver.get(\"https://techwithtim.net\")"
   ]
  },
  {
   "cell_type": "code",
   "execution_count": 29,
   "id": "34cc5a68",
   "metadata": {
    "scrolled": true
   },
   "outputs": [
    {
     "name": "stdout",
     "output_type": "stream",
     "text": [
      "Tech With Tim - Python & Java Programming Tutorials - techwithtim.net\n"
     ]
    }
   ],
   "source": [
    "print(driver.title)"
   ]
  },
  {
   "cell_type": "code",
   "execution_count": 30,
   "id": "39307b68",
   "metadata": {},
   "outputs": [
    {
     "name": "stdout",
     "output_type": "stream",
     "text": [
      "SEARCH RESULTS FOR: TEST\n",
      "November 4, 2019\n",
      "HTTP MethodsIn this tutorial we will talk about HTTP methods. HTTP methods are the standard way of sending information to and from a web server. To break it down, a website runs on a server or multiple servers and simple returns information to a client (web-browser). Information is exchanged between the client and the server […]\n",
      "November 4, 2019\n",
      "Creating a Base Template So you may have realized that creating new web pages for every single page on our website is extremely inefficient. Especially when our website follows a theme and has similar elements (like a sidebar) on every page. This is where template inheritance comes in. We will talk about how to inherit […]\n",
      "October 29, 2019\n",
      "Redirecting ContinuedStarting from where we left off in the last tutorial. I wanted to show how to redirect to a function that takes an argument (like our user function). To do this we simply need to define the parameter name and a value in the url_for function, like below.from flask import Flask, redirect, url_for app […]\n",
      "October 28, 2019\n",
      "What is Flask?Flask is a known as a micro web framework. This means it provides some basic functionality to allow developers to build simple websites. It does not come with all the bells and whistles like some other web frameworks like django have and therefore is typically not used for complex websites. However, there is […]\n",
      "September 8, 2019\n",
      "Up until this point we have only been able to get events the next upcoming events from our google calendar. In this tutorial I will show you how you can retrieve a list of events that occur in one day. Using Pyttsx3 In the previous tutorials we used gTTS (Google Text-to-Speech) to output audio and […]\n",
      "September 8, 2019\n",
      "In this tutorial we will finish our get_date() function and test it out! PLEASE USE THE CODE BELOW, IT FIXES SOME ERRORS FROM THE VIDEO ABOVE Finishing get_date() Now that we have extracted the information from the text it’s time to process it. There are a few scenarios we need to consider: 1. We have […]\n",
      "September 4, 2019\n",
      "Getting User Input In the last tutorial we learned how to output sound from our python script using the gTTS module. In this video we will do the opposite, we will get user input and turn it into text data that we can process. Let’s get started by creating a function called get_audio. def get_audio(): […]\n",
      "July 19, 2019\n",
      "This PyQt5 Tutorial will show you how to create message boxes/popup windows using pyqt. We will use the QMessageBox class to accomplish this. Creating a Basic GUI I’ve started this tutorial by creating a very minimal GUI that contains one button. This way we can use the button press to trigger a popup/mesagebox. This is […]\n",
      "July 18, 2019\n",
      "This PyQt5 Combobox tutorial will show how to create, use and manipulate comboboxes. For those of you unaware a combobox is a box that allows you to choose an item from a list of choices. Creating The GUI For this tutorial we will create a GUI that can simulate the XOR function. We will use […]\n",
      "July 11, 2019\n",
      "This PyQt5 tutorial will show you how to display images using something called a QPixmap. Displaying an Image For this tutorial we will create an image using PyQt Designer and then change them image source from our python code. To display an image we can actually use a label! We will start by dragging in […]\n",
      "Posts navigation\n",
      "1 2 … 4 Next →\n",
      "HTTP MethodsIn this tutorial we will talk about HTTP methods. HTTP methods are the standard way of sending information to and from a web server. To break it down, a website runs on a server or multiple servers and simple returns information to a client (web-browser). Information is exchanged between the client and the server […]\n",
      "Creating a Base Template So you may have realized that creating new web pages for every single page on our website is extremely inefficient. Especially when our website follows a theme and has similar elements (like a sidebar) on every page. This is where template inheritance comes in. We will talk about how to inherit […]\n",
      "Redirecting ContinuedStarting from where we left off in the last tutorial. I wanted to show how to redirect to a function that takes an argument (like our user function). To do this we simply need to define the parameter name and a value in the url_for function, like below.from flask import Flask, redirect, url_for app […]\n",
      "What is Flask?Flask is a known as a micro web framework. This means it provides some basic functionality to allow developers to build simple websites. It does not come with all the bells and whistles like some other web frameworks like django have and therefore is typically not used for complex websites. However, there is […]\n",
      "Up until this point we have only been able to get events the next upcoming events from our google calendar. In this tutorial I will show you how you can retrieve a list of events that occur in one day. Using Pyttsx3 In the previous tutorials we used gTTS (Google Text-to-Speech) to output audio and […]\n",
      "In this tutorial we will finish our get_date() function and test it out! PLEASE USE THE CODE BELOW, IT FIXES SOME ERRORS FROM THE VIDEO ABOVE Finishing get_date() Now that we have extracted the information from the text it’s time to process it. There are a few scenarios we need to consider: 1. We have […]\n",
      "Getting User Input In the last tutorial we learned how to output sound from our python script using the gTTS module. In this video we will do the opposite, we will get user input and turn it into text data that we can process. Let’s get started by creating a function called get_audio. def get_audio(): […]\n",
      "This PyQt5 Tutorial will show you how to create message boxes/popup windows using pyqt. We will use the QMessageBox class to accomplish this. Creating a Basic GUI I’ve started this tutorial by creating a very minimal GUI that contains one button. This way we can use the button press to trigger a popup/mesagebox. This is […]\n",
      "This PyQt5 Combobox tutorial will show how to create, use and manipulate comboboxes. For those of you unaware a combobox is a box that allows you to choose an item from a list of choices. Creating The GUI For this tutorial we will create a GUI that can simulate the XOR function. We will use […]\n",
      "This PyQt5 tutorial will show you how to display images using something called a QPixmap. Displaying an Image For this tutorial we will create an image using PyQt Designer and then change them image source from our python code. To display an image we can actually use a label! We will start by dragging in […]\n"
     ]
    }
   ],
   "source": [
    "search = driver.find_element(By.NAME, \"s\")\n",
    "search.clear() #clear any text in the search\n",
    "search.send_keys(\"test\")\n",
    "search.send_keys(Keys.RETURN)\n",
    "\n",
    "try:\n",
    "    main = WebDriverWait(driver, 10).until(\n",
    "    EC.presence_of_element_located((By.ID, \"main\"))\n",
    "    )\n",
    "    \n",
    "    print(main.text)\n",
    "    \n",
    "    articles = main.find_elements(By.TAG_NAME,\"article\")\n",
    "    \n",
    "    for i in articles:\n",
    "        header = i.find_element(By.CLASS_NAME,\"entry-summary\")\n",
    "        print(header.text)\n",
    "        \n",
    "except:\n",
    "    driver.quit()"
   ]
  },
  {
   "cell_type": "markdown",
   "id": "a7323f06",
   "metadata": {},
   "source": [
    "---Lab 5---"
   ]
  },
  {
   "cell_type": "code",
   "execution_count": 32,
   "id": "fd2d6502",
   "metadata": {
    "scrolled": false
   },
   "outputs": [],
   "source": [
    "#Part1\n",
    "\n",
    "driver.get(\"https://techwithtim.net\")\n",
    "\n",
    "link = driver.find_element(By.LINK_TEXT,\"Python Programming\") #finding the link that says Python Programming\n",
    "link.click() #clicking the link once it is found\n",
    "\n",
    "try: #telling WebDriver to wait again like above\n",
    "    element = WebDriverWait(driver, 10).until(\n",
    "    EC.presence_of_element_located((By.LINK_TEXT, \"Beginner Python Tutorials\"))\n",
    "    )\n",
    "    element.click() #clicking the link Beginner Python tutorials when it is found\n",
    "    \n",
    "    element = WebDriverWait(driver, 10).until(\n",
    "    EC.presence_of_element_located((By.ID, \"sow-button-19310003\"))\n",
    "    )\n",
    "    element.click()#looks for the button and clicks it to go to next page once found\n",
    "    \n",
    "    #go back, 3x to original page\n",
    "    driver.back()\n",
    "    driver.back()\n",
    "    driver.back()\n",
    "    \n",
    "    #go forward\n",
    "    driver.forward()\n",
    "    driver.forward()\n",
    "    \n",
    "    \n",
    "except: #if the elements aren't found, then quit\n",
    "    driver.quit()"
   ]
  },
  {
   "cell_type": "code",
   "execution_count": 33,
   "id": "4ca13bb9",
   "metadata": {},
   "outputs": [],
   "source": [
    "#Part 2\n",
    "\n",
    "driver = webdriver.Chrome(service=PATH)\n",
    "\n",
    "driver.get(\"https://data.gov\")"
   ]
  },
  {
   "cell_type": "code",
   "execution_count": 34,
   "id": "0f036ad8",
   "metadata": {},
   "outputs": [],
   "source": [
    "try:#telling WebDriver to wait again like above\n",
    "    data = WebDriverWait(driver, 10).until(\n",
    "    EC.presence_of_element_located((By.LINK_TEXT, \"DATA\"))\n",
    "    )\n",
    "    data.click()\n",
    "    \n",
    "except:\n",
    "    driver.quit()"
   ]
  },
  {
   "cell_type": "code",
   "execution_count": 35,
   "id": "828cf008",
   "metadata": {},
   "outputs": [],
   "source": [
    "search = driver.find_element(By.NAME, \"q\")\n",
    "search.clear() #clear any text in the search\n",
    "search.send_keys(\"climate change\")\n",
    "search.send_keys(Keys.RETURN)"
   ]
  },
  {
   "cell_type": "code",
   "execution_count": 36,
   "id": "eacefe79",
   "metadata": {},
   "outputs": [],
   "source": [
    "from bs4 import BeautifulSoup\n",
    "import requests\n",
    "import html5lib\n",
    "import csv\n",
    "import pandas as pd"
   ]
  },
  {
   "cell_type": "code",
   "execution_count": 37,
   "id": "357e92e0",
   "metadata": {
    "scrolled": true
   },
   "outputs": [
    {
     "data": {
      "text/plain": [
       "22"
      ]
     },
     "execution_count": 37,
     "metadata": {},
     "output_type": "execute_result"
    }
   ],
   "source": [
    "source = requests.get(\"https://catalog.data.gov/dataset?q=climate+change\").text\n",
    "soup = BeautifulSoup(source, \"lxml\")\n",
    "\n",
    "csv_file = open(\"climate_scrape.csv\", \"w\", newline=\"\", encoding=\"utf-8\")\n",
    "csv_writer = csv.writer(csv_file)\n",
    "csv_writer.writerow([\"title, \" \"description\"])"
   ]
  },
  {
   "cell_type": "code",
   "execution_count": 38,
   "id": "ca1c3298",
   "metadata": {
    "scrolled": true
   },
   "outputs": [
    {
     "name": "stdout",
     "output_type": "stream",
     "text": [
      "Food Price Outlook\n",
      "Department of Agriculture —\n",
      "The Consumer Price Index (CPI) for food is a component of the all-items CPI. The CPI measures the average change over time in the prices paid by urban consumers for a...\n",
      "National Flood Hazard Layer (NFHL)\n",
      "Federal Emergency Management Agency, Department of Homeland Security —\n",
      "The National Flood Hazard Layer (NFHL) is a compilation of GIS data that comprises a nationwide digital Flood Insurance Rate Map. The GIS data and services are...\n",
      "US EPA Nonattainment Areas and Designations\n",
      "U.S. Environmental Protection Agency —\n",
      "This web service contains the following state level layers:Ozone 8-hr (1997 standard), Ozone 8-hr (2008 standard), Lead (2008 standard), SO2 1-hr (2010 standard),...\n",
      "U.S. Crude Oil, Natural Gas, and Natural Gas Liquids Reserves\n",
      "Department of Energy —\n",
      "Annual data on proved reserves of crude oil, natural gas, and natural gas liquids in the U.S. Based on EIA Form-23L data. Proved reserves are estimated volumes of...\n",
      "U.S. Local Climatological Data (LCD)\n",
      "National Oceanic and Atmospheric Administration, Department of Commerce —\n",
      "Local Climatological Data (LCD) are summaries of climatological conditions from airport and other prominent weather stations managed by NWS, FAA, and DOD. The product...\n",
      "NOAA Digital Coast Sea Level Rise and Coastal Flooding Impacts Viewer\n",
      "National Oceanic and Atmospheric Administration, Department of Commerce —\n",
      "The Sea Level Rise and Coastal Flooding Impacts Viewer depicts potential sea level rise and its associated impacts on the nation's coastal areas. These coastal areas...\n",
      "The EPA Automotive Trends Report: Greenhouse Gas Emissions, Fuel Economy, and Technology since 1975\n",
      "U.S. Environmental Protection Agency —\n",
      "This annual report is part of the U.S. Environmental Protection Agency’s (EPA) commitment to provide the public with information about new light-duty vehicle...\n",
      "U.S. Billion-dollar Weather and Climate Disasters, 1980 - present (NCEI Accession 0209268)\n",
      "National Oceanic and Atmospheric Administration, Department of Commerce —\n",
      "This NCEI accession contains U.S. disaster cost assessments of the total, direct losses ($) inflicted by: tropical cyclones, inland floods, drought & heat waves,...\n",
      "Plant Community Exposure Models\n",
      "Department of the Interior —\n",
      "These data were compiled to forecast climate exposure for 29 major plant communities in the southwestern United States to changing climate under two future climate...\n",
      "Commercial and Residential Hourly Load Profiles for all TMY3 Locations in the United States\n",
      "Department of Energy —\n",
      "Note: This dataset has been superseded by the dataset found at \"End-Use Load Profiles for the U.S. Building Stock\" (submission 4520; linked in the submission...\n",
      "Clean Air Status and Trends Network (CASTNET) Download Data Module\n",
      "U.S. Environmental Protection Agency —\n",
      "The CASTNET Download Data module allows users to select, view, and download CASTNET data (Raw, Aggregate, Modeled & Factual Data) based on user selections....\n",
      "National Greenhouse Gas Emission Inventory\n",
      "U.S. Environmental Protection Agency —\n",
      "The National Greenhouse Gas Emission Inventory contains information on direct emissions of greenhouse gases as well as indirect or potential emissions of greenhouse...\n",
      "Report on U.S. Methane Emissions 1990-2020: Inventories, Projections, and Opportunities for Reductions: 2001 Updated emission and cost estimates\n",
      "U.S. Environmental Protection Agency —\n",
      "This dataset contains relative and absolute forecasts of emissions through 2020 for landfills, natural gas and oil systems, coal mines, manure management and enteric...\n",
      "Climatic suitability models and assessments for plant species and communities of the Southwestern US\n",
      "Department of the Interior —\n",
      "These data were compiled to assess potential changes in the climatic suitability for 66 species (dominant and associate plant species) and forecast climate exposure...\n",
      "USGS Water Use Data for the Nation - National Water Information System (NWIS)\n",
      "Department of the Interior —\n",
      "The U.S. Geological Survey's National Water-Use Information Program is responsible for compiling and disseminating the nation's water-use data. The USGS works in...\n",
      "NACP North American Forest Dynamics Project: Forest Disturbance and Regrowth Data\n",
      "National Aeronautics and Space Administration —\n",
      "This data set provides the results of time-series analyses of Landsat imagery for 55 selected forested sites across the conterminous U.S.A. The output is a pair of...\n",
      "Maritime Limits and Boundaries of United States of America\n",
      "National Oceanic and Atmospheric Administration, Department of Commerce —\n",
      "NOAA is responsible for depicting on its nautical charts the limits of the 12 nautical mile Territorial Sea, 24 nautical mile Contiguous Zone, and 200 nautical mile...\n",
      "Emission & Generation Resource Integrated Database (eGRID)\n",
      "U.S. Environmental Protection Agency —\n",
      "The Emissions & Generation Resource Integrated Database (eGRID) is a comprehensive source of data on characteristics of almost all electric power generated in the...\n",
      "Sea Level Trends: Sea Level Variations of the United States Derived from National Water Level Observation Network Stations\n",
      "National Oceanic and Atmospheric Administration, Department of Commerce —\n",
      "Water level records are a combination of the fluctuations of the ocean and the vertical land motion at the location of the station. Monthly mean sea level (MSL)...\n",
      "Social Vulnerability Index (SoVI) for the U.S. Coastal States based on the 2010 Census Tracts\n",
      "National Oceanic and Atmospheric Administration, Department of Commerce —\n",
      "The Social Vulnerability Index (SoVI) 2006-10 measures the social vulnerability of U.S. counties to environmental hazards. The index is a comparative metric that...\n"
     ]
    }
   ],
   "source": [
    "for element in soup.find_all(\"div\", class_=\"dataset-content\"):\n",
    "    title = element.h3.a.text.strip()\n",
    "    print(title)\n",
    "    \n",
    "    description = element.find(\"div\", class_=\"notes\").text.strip()\n",
    "    print(description)\n",
    "    \n",
    "    csv_writer.writerow([title, description])\n",
    "    \n",
    "csv_file.close()"
   ]
  },
  {
   "cell_type": "code",
   "execution_count": 39,
   "id": "1ba0b747",
   "metadata": {},
   "outputs": [],
   "source": [
    "#Bonus\n",
    "\n",
    "driver = webdriver.Chrome(service=PATH)\n",
    "\n",
    "driver.get(\"https://www.rottentomatoes.com\")"
   ]
  },
  {
   "cell_type": "code",
   "execution_count": 40,
   "id": "5b03fef6",
   "metadata": {},
   "outputs": [],
   "source": [
    "try: \n",
    "    shows = WebDriverWait(driver, 10).until(\n",
    "    EC.presence_of_element_located((By.LINK_TEXT, \"TV SHOWS\")) #looking for the link that will take me to the TV SHOWS page and clicking it\n",
    "    )\n",
    "    shows.click()\n",
    "    \n",
    "except:\n",
    "    driver.quit()"
   ]
  },
  {
   "cell_type": "code",
   "execution_count": 41,
   "id": "ca6ec284",
   "metadata": {},
   "outputs": [],
   "source": [
    "from bs4 import BeautifulSoup\n",
    "import requests\n",
    "import html5lib\n",
    "import csv\n",
    "import pandas as pd"
   ]
  },
  {
   "cell_type": "code",
   "execution_count": 42,
   "id": "dd5d6cb1",
   "metadata": {
    "scrolled": true
   },
   "outputs": [
    {
     "data": {
      "text/plain": [
       "25"
      ]
     },
     "execution_count": 42,
     "metadata": {},
     "output_type": "execute_result"
    }
   ],
   "source": [
    "source = requests.get(\"https://www.rottentomatoes.com/browse/tv_series_browse/sort:popular\").text\n",
    "soup = BeautifulSoup(source, \"lxml\")\n",
    "\n",
    "csv_file = open(\"RT.csv\", \"w\", newline=\"\", encoding=\"utf-8\")\n",
    "csv_writer = csv.writer(csv_file)\n",
    "csv_writer.writerow([\"title, \" \"latest episode\"])"
   ]
  },
  {
   "cell_type": "code",
   "execution_count": 43,
   "id": "5c290c4b",
   "metadata": {},
   "outputs": [
    {
     "name": "stdout",
     "output_type": "stream",
     "text": [
      "\n",
      "\n",
      "The Last of Us\n",
      "Latest Episode: Feb 26\n",
      "Outer Banks\n",
      "Latest Episode: Feb 23\n",
      "The Order\n",
      "Not shown\n",
      "The Consultant\n",
      "Latest Episode: Feb 24\n",
      "Red Rose\n",
      "Not shown\n",
      "Poker Face\n",
      "Latest Episode: Feb 23\n",
      "Die Hart\n",
      "Not shown\n",
      "The Chosen\n",
      "Not shown\n",
      "You\n",
      "Latest Episode: Feb 09\n",
      "C.B. Strike\n",
      "Latest Episode: Dec 19\n",
      "Shrinking\n",
      "Latest Episode: Feb 24\n",
      "Party Down\n",
      "Latest Episode: Feb 24\n",
      "Carnival Row\n",
      "Latest Episode: Feb 24\n",
      "Hello Tomorrow!\n",
      "Latest Episode: Feb 24\n",
      "The Devil's Hour\n",
      "Not shown\n",
      "Triptych\n",
      "Latest Episode: Feb 22\n",
      "Cunk on Earth\n",
      "Not shown\n",
      "Extraordinary\n",
      "Latest Episode: Jan 25\n",
      "The Last Kingdom\n",
      "Not shown\n",
      "Star Trek: Picard\n",
      "Latest Episode: Feb 23\n",
      "Katla\n",
      "Not shown\n",
      "The White Lotus\n",
      "Latest Episode: Dec 11\n",
      "Velma\n",
      "Latest Episode: Feb 09\n",
      "Lockwood & Co.\n",
      "Latest Episode: Jan 27\n",
      "Mayor of Kingstown\n",
      "Latest Episode: Feb 26\n",
      "The Snow Girl\n",
      "Latest Episode: Jan 27\n",
      "Your Honor\n",
      "Latest Episode: Feb 26\n",
      "Clarkson's Farm\n",
      "Latest Episode: Feb 10\n",
      "The Lord of the Rings: The Rings of Power\n",
      "Not shown\n",
      "1923\n",
      "Latest Episode: Feb 26\n"
     ]
    }
   ],
   "source": [
    "for element in soup.find_all(\"a\", class_=\"js-tile-link\"):\n",
    "    \n",
    "    show_title = element.find(\"span\", class_=\"p--small\").text.strip() #grabbing the show title\n",
    "    print(show_title)\n",
    "    \n",
    "    try: #this will grab the latest episode date from each show\n",
    "        latest_ep = element.find(\"span\", class_=\"smaller\").text.strip()\n",
    "        print(latest_ep)\n",
    "        \n",
    "    except:\n",
    "        latest_ep = \"Not shown\" #using try/except so if the latest episode is not listed, it will display as \"Not shown\" \n",
    "        print(latest_ep)\n",
    "\n",
    "    \n",
    "    csv_writer.writerow([show_title, latest_ep])\n",
    "    \n",
    "csv_file.close()"
   ]
  }
 ],
 "metadata": {
  "kernelspec": {
   "display_name": "Python 3 (ipykernel)",
   "language": "python",
   "name": "python3"
  },
  "language_info": {
   "codemirror_mode": {
    "name": "ipython",
    "version": 3
   },
   "file_extension": ".py",
   "mimetype": "text/x-python",
   "name": "python",
   "nbconvert_exporter": "python",
   "pygments_lexer": "ipython3",
   "version": "3.9.12"
  }
 },
 "nbformat": 4,
 "nbformat_minor": 5
}
